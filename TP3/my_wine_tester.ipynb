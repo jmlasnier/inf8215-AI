{
 "cells": [
  {
   "cell_type": "code",
   "execution_count": 152,
   "metadata": {},
   "outputs": [],
   "source": [
    "# !pip install imbalanced-learn\n",
    "# !pip install seaborn"
   ]
  },
  {
   "cell_type": "code",
   "execution_count": 14,
   "metadata": {},
   "outputs": [],
   "source": [
    "import pandas as pd\n",
    "import numpy as np\n",
    "import matplotlib.pyplot as plt\n",
    "import imblearn\n",
    "from imblearn.over_sampling import SMOTE\n",
    "import seaborn as sns\n",
    "\n",
    "\n",
    "from sklearn.ensemble import RandomForestClassifier\n",
    "from sklearn.model_selection import train_test_split\n"
   ]
  },
  {
   "cell_type": "markdown",
   "metadata": {},
   "source": [
    "# Importation données\n"
   ]
  },
  {
   "cell_type": "code",
   "execution_count": 15,
   "metadata": {},
   "outputs": [
    {
     "name": "stdout",
     "output_type": "stream",
     "text": [
      "6    1998\n",
      "5    1500\n",
      "7     739\n",
      "4     154\n",
      "8     133\n",
      "3      21\n",
      "9       2\n",
      "Name: quality, dtype: int64\n",
      "4547\n",
      "4547\n",
      "4547\n"
     ]
    },
    {
     "data": {
      "text/html": [
       "<div>\n",
       "<style scoped>\n",
       "    .dataframe tbody tr th:only-of-type {\n",
       "        vertical-align: middle;\n",
       "    }\n",
       "\n",
       "    .dataframe tbody tr th {\n",
       "        vertical-align: top;\n",
       "    }\n",
       "\n",
       "    .dataframe thead th {\n",
       "        text-align: right;\n",
       "    }\n",
       "</style>\n",
       "<table border=\"1\" class=\"dataframe\">\n",
       "  <thead>\n",
       "    <tr style=\"text-align: right;\">\n",
       "      <th></th>\n",
       "      <th>fixed acidity</th>\n",
       "      <th>volatile acidity</th>\n",
       "      <th>citric acid</th>\n",
       "      <th>residual sugar</th>\n",
       "      <th>chlorides</th>\n",
       "      <th>free sulfur dioxide</th>\n",
       "      <th>total sulfur dioxide</th>\n",
       "      <th>density</th>\n",
       "      <th>pH</th>\n",
       "      <th>sulphates</th>\n",
       "      <th>alcohol</th>\n",
       "      <th>quality</th>\n",
       "    </tr>\n",
       "  </thead>\n",
       "  <tbody>\n",
       "    <tr>\n",
       "      <th>0</th>\n",
       "      <td>6.4</td>\n",
       "      <td>0.13</td>\n",
       "      <td>0.47</td>\n",
       "      <td>1.6</td>\n",
       "      <td>0.092</td>\n",
       "      <td>40.0</td>\n",
       "      <td>158.0</td>\n",
       "      <td>0.99280</td>\n",
       "      <td>3.21</td>\n",
       "      <td>0.36</td>\n",
       "      <td>9.8</td>\n",
       "      <td>6</td>\n",
       "    </tr>\n",
       "    <tr>\n",
       "      <th>1</th>\n",
       "      <td>6.2</td>\n",
       "      <td>0.33</td>\n",
       "      <td>0.14</td>\n",
       "      <td>4.8</td>\n",
       "      <td>0.052</td>\n",
       "      <td>27.0</td>\n",
       "      <td>128.0</td>\n",
       "      <td>0.99475</td>\n",
       "      <td>3.21</td>\n",
       "      <td>0.48</td>\n",
       "      <td>9.4</td>\n",
       "      <td>5</td>\n",
       "    </tr>\n",
       "    <tr>\n",
       "      <th>2</th>\n",
       "      <td>6.3</td>\n",
       "      <td>0.32</td>\n",
       "      <td>0.32</td>\n",
       "      <td>1.5</td>\n",
       "      <td>0.030</td>\n",
       "      <td>24.0</td>\n",
       "      <td>101.0</td>\n",
       "      <td>0.98923</td>\n",
       "      <td>3.21</td>\n",
       "      <td>0.42</td>\n",
       "      <td>13.0</td>\n",
       "      <td>5</td>\n",
       "    </tr>\n",
       "    <tr>\n",
       "      <th>3</th>\n",
       "      <td>6.6</td>\n",
       "      <td>0.16</td>\n",
       "      <td>0.34</td>\n",
       "      <td>1.1</td>\n",
       "      <td>0.037</td>\n",
       "      <td>41.0</td>\n",
       "      <td>115.0</td>\n",
       "      <td>0.98990</td>\n",
       "      <td>3.01</td>\n",
       "      <td>0.68</td>\n",
       "      <td>12.0</td>\n",
       "      <td>6</td>\n",
       "    </tr>\n",
       "    <tr>\n",
       "      <th>4</th>\n",
       "      <td>6.3</td>\n",
       "      <td>0.26</td>\n",
       "      <td>0.42</td>\n",
       "      <td>7.1</td>\n",
       "      <td>0.045</td>\n",
       "      <td>62.0</td>\n",
       "      <td>209.0</td>\n",
       "      <td>0.99544</td>\n",
       "      <td>3.20</td>\n",
       "      <td>0.53</td>\n",
       "      <td>9.5</td>\n",
       "      <td>6</td>\n",
       "    </tr>\n",
       "    <tr>\n",
       "      <th>...</th>\n",
       "      <td>...</td>\n",
       "      <td>...</td>\n",
       "      <td>...</td>\n",
       "      <td>...</td>\n",
       "      <td>...</td>\n",
       "      <td>...</td>\n",
       "      <td>...</td>\n",
       "      <td>...</td>\n",
       "      <td>...</td>\n",
       "      <td>...</td>\n",
       "      <td>...</td>\n",
       "      <td>...</td>\n",
       "    </tr>\n",
       "    <tr>\n",
       "      <th>4542</th>\n",
       "      <td>7.1</td>\n",
       "      <td>0.18</td>\n",
       "      <td>0.32</td>\n",
       "      <td>12.2</td>\n",
       "      <td>0.048</td>\n",
       "      <td>36.0</td>\n",
       "      <td>125.0</td>\n",
       "      <td>0.99670</td>\n",
       "      <td>2.92</td>\n",
       "      <td>0.54</td>\n",
       "      <td>9.4</td>\n",
       "      <td>6</td>\n",
       "    </tr>\n",
       "    <tr>\n",
       "      <th>4543</th>\n",
       "      <td>7.9</td>\n",
       "      <td>0.26</td>\n",
       "      <td>0.33</td>\n",
       "      <td>10.3</td>\n",
       "      <td>0.039</td>\n",
       "      <td>73.0</td>\n",
       "      <td>212.0</td>\n",
       "      <td>0.99690</td>\n",
       "      <td>2.93</td>\n",
       "      <td>0.49</td>\n",
       "      <td>9.5</td>\n",
       "      <td>6</td>\n",
       "    </tr>\n",
       "    <tr>\n",
       "      <th>4544</th>\n",
       "      <td>7.3</td>\n",
       "      <td>0.22</td>\n",
       "      <td>0.37</td>\n",
       "      <td>14.3</td>\n",
       "      <td>0.063</td>\n",
       "      <td>48.0</td>\n",
       "      <td>191.0</td>\n",
       "      <td>0.99780</td>\n",
       "      <td>2.89</td>\n",
       "      <td>0.38</td>\n",
       "      <td>9.0</td>\n",
       "      <td>6</td>\n",
       "    </tr>\n",
       "    <tr>\n",
       "      <th>4545</th>\n",
       "      <td>7.2</td>\n",
       "      <td>0.51</td>\n",
       "      <td>0.24</td>\n",
       "      <td>10.0</td>\n",
       "      <td>0.093</td>\n",
       "      <td>35.0</td>\n",
       "      <td>197.0</td>\n",
       "      <td>0.99810</td>\n",
       "      <td>3.41</td>\n",
       "      <td>0.47</td>\n",
       "      <td>9.0</td>\n",
       "      <td>5</td>\n",
       "    </tr>\n",
       "    <tr>\n",
       "      <th>4546</th>\n",
       "      <td>7.9</td>\n",
       "      <td>0.29</td>\n",
       "      <td>0.36</td>\n",
       "      <td>11.1</td>\n",
       "      <td>0.033</td>\n",
       "      <td>43.0</td>\n",
       "      <td>208.0</td>\n",
       "      <td>0.99690</td>\n",
       "      <td>3.14</td>\n",
       "      <td>0.46</td>\n",
       "      <td>10.3</td>\n",
       "      <td>5</td>\n",
       "    </tr>\n",
       "  </tbody>\n",
       "</table>\n",
       "<p>4547 rows × 12 columns</p>\n",
       "</div>"
      ],
      "text/plain": [
       "      fixed acidity  volatile acidity  citric acid  residual sugar  chlorides  \\\n",
       "0               6.4              0.13         0.47             1.6      0.092   \n",
       "1               6.2              0.33         0.14             4.8      0.052   \n",
       "2               6.3              0.32         0.32             1.5      0.030   \n",
       "3               6.6              0.16         0.34             1.1      0.037   \n",
       "4               6.3              0.26         0.42             7.1      0.045   \n",
       "...             ...               ...          ...             ...        ...   \n",
       "4542            7.1              0.18         0.32            12.2      0.048   \n",
       "4543            7.9              0.26         0.33            10.3      0.039   \n",
       "4544            7.3              0.22         0.37            14.3      0.063   \n",
       "4545            7.2              0.51         0.24            10.0      0.093   \n",
       "4546            7.9              0.29         0.36            11.1      0.033   \n",
       "\n",
       "      free sulfur dioxide  total sulfur dioxide  density    pH  sulphates  \\\n",
       "0                    40.0                 158.0  0.99280  3.21       0.36   \n",
       "1                    27.0                 128.0  0.99475  3.21       0.48   \n",
       "2                    24.0                 101.0  0.98923  3.21       0.42   \n",
       "3                    41.0                 115.0  0.98990  3.01       0.68   \n",
       "4                    62.0                 209.0  0.99544  3.20       0.53   \n",
       "...                   ...                   ...      ...   ...        ...   \n",
       "4542                 36.0                 125.0  0.99670  2.92       0.54   \n",
       "4543                 73.0                 212.0  0.99690  2.93       0.49   \n",
       "4544                 48.0                 191.0  0.99780  2.89       0.38   \n",
       "4545                 35.0                 197.0  0.99810  3.41       0.47   \n",
       "4546                 43.0                 208.0  0.99690  3.14       0.46   \n",
       "\n",
       "      alcohol  quality  \n",
       "0         9.8        6  \n",
       "1         9.4        5  \n",
       "2        13.0        5  \n",
       "3        12.0        6  \n",
       "4         9.5        6  \n",
       "...       ...      ...  \n",
       "4542      9.4        6  \n",
       "4543      9.5        6  \n",
       "4544      9.0        6  \n",
       "4545      9.0        5  \n",
       "4546     10.3        5  \n",
       "\n",
       "[4547 rows x 12 columns]"
      ]
     },
     "execution_count": 15,
     "metadata": {},
     "output_type": "execute_result"
    }
   ],
   "source": [
    "#importation des données\n",
    "df_data = pd.read_csv('./data/train.csv', sep=';')\n",
    "\n",
    "df_data['color'].value_counts()\n",
    "# print(df_data)\n",
    "# One-hot encoding\n",
    "df_data = pd.get_dummies(df_data)\n",
    "column_list = ['id', 'fixed acidity', 'volatile acidity', 'citric acid',\n",
    "       'residual sugar', 'chlorides', 'free sulfur dioxide',\n",
    "       'total sulfur dioxide', 'density', 'pH', 'sulphates', 'alcohol',\n",
    "       'color_red', 'color_white','quality']\n",
    "\n",
    "# good_columns = ['chlorides', 'volatile acidity', 'density', 'alcohol']\n",
    "# column_names = {'0':'id', '1':'fixed acidity', '2':'volatile acidity', '3':'citric acid',\n",
    "#        '4':'residual sugar', '5':'chlorides', '6':'free sulfur dioxide',\n",
    "#        '7':'total sulfur dioxide', '8':'density', '9':'pH', '10':'sulphates', 'alcohol',\n",
    "#        'color_red', 'color_white','quality'}\n",
    "df_data = df_data[column_list]\n",
    "\n",
    "df_data = df_data[['fixed acidity', 'volatile acidity', 'citric acid',\n",
    "       'residual sugar', 'chlorides', 'free sulfur dioxide',\n",
    "       'total sulfur dioxide', 'density', 'pH', 'sulphates', 'alcohol',\n",
    "       'quality']]\n",
    "# df_data = df_data[['alcohol', 'volatile acidity', 'free sulfur dioxide',\n",
    "#                    'sulphates', 'residual sugar', 'pH', 'total sulfur dioxide', \n",
    "#                    'chlorides', 'density','quality']]\n",
    "print(df_data['quality'].value_counts())\n",
    "print(len(df_data))\n",
    "\n",
    "y = np.array(df_data['quality'])\n",
    "X = df_data.drop('quality', axis=1)\n",
    "feature_list = list(X.columns)\n",
    "X = np.array(X)\n",
    "# y = df_data.iloc[:, df_data.shape[1]-1].values\n",
    "# X = df_data.iloc[:, 0:df_data.shape[1]-1].values\n",
    "\n",
    "print(len(X))\n",
    "print(len(y))\n",
    "df_data"
   ]
  },
  {
   "cell_type": "markdown",
   "metadata": {},
   "source": [
    "# Traitement des données"
   ]
  },
  {
   "cell_type": "markdown",
   "metadata": {},
   "source": [
    "## Imbalanced Dataset"
   ]
  },
  {
   "cell_type": "code",
   "execution_count": 26,
   "metadata": {},
   "outputs": [
    {
     "name": "stdout",
     "output_type": "stream",
     "text": [
      "6    1998\n",
      "5    1500\n",
      "7     739\n",
      "4     154\n",
      "8     133\n",
      "3      21\n",
      "9       2\n",
      "dtype: int64\n",
      "3    1998\n",
      "4    1998\n",
      "5    1998\n",
      "6    1998\n",
      "7    1998\n",
      "8    1998\n",
      "9    1998\n",
      "dtype: int64\n",
      "4547\n",
      "4547\n"
     ]
    }
   ],
   "source": [
    "from imblearn.over_sampling import RandomOverSampler\n",
    "from imblearn.under_sampling import RandomUnderSampler\n",
    "\n",
    "print(pd.DataFrame(data=y).value_counts())\n",
    "ros = RandomOverSampler(random_state=0)\n",
    "ros.fit(X,y)\n",
    "X_resampled, y_resampled = ros.fit_resample(X,y)\n",
    "\n",
    "dfXx = pd.DataFrame(data=X_resampled)\n",
    "dfy = pd.DataFrame(data=y_resampled)\n",
    "\n",
    "print(dfy.value_counts())\n",
    "# y = np.array(dfy)\n",
    "# X = np.array(dfXx)\n",
    "\n",
    "print(len(y))\n",
    "print(len(X))"
   ]
  },
  {
   "cell_type": "markdown",
   "metadata": {},
   "source": [
    "## Feature Selection"
   ]
  },
  {
   "cell_type": "code",
   "execution_count": 4,
   "metadata": {},
   "outputs": [
    {
     "data": {
      "image/png": "[encoded data removed]",
      "text/plain": [
       "<Figure size 864x720 with 2 Axes>"
      ]
     },
     "metadata": {
      "needs_background": "light"
     },
     "output_type": "display_data"
    },
    {
     "data": {
      "text/plain": [
       "residual sugar          0.031239\n",
       "pH                      0.032368\n",
       "sulphates               0.034438\n",
       "total sulfur dioxide    0.041837\n",
       "free sulfur dioxide     0.060798\n",
       "fixed acidity           0.080260\n",
       "citric acid             0.083584\n",
       "color_white             0.111778\n",
       "color_red               0.111778\n",
       "chlorides               0.196164\n",
       "volatile acidity        0.262429\n",
       "density                 0.306301\n",
       "alcohol                 0.445358\n",
       "quality                 1.000000\n",
       "Name: quality, dtype: float64"
      ]
     },
     "execution_count": 4,
     "metadata": {},
     "output_type": "execute_result"
    }
   ],
   "source": [
    "plt.figure(figsize=(12,10))\n",
    "cor = df_data.corr()\n",
    "sns.heatmap(cor, annot=True, cmap=plt.cm.Reds)\n",
    "plt.show()\n",
    "\n",
    "#Correlation with output variable\n",
    "cor_target = abs(cor[\"quality\"])\n",
    "cor_target.sort_values()\n",
    "# #Selecting highly correlated features\n",
    "# relevant_features = cor_target[cor_target>0.10]\n",
    "# relevant_features\n",
    "\n",
    "\n"
   ]
  },
  {
   "cell_type": "code",
   "execution_count": 11,
   "metadata": {},
   "outputs": [
    {
     "name": "stdout",
     "output_type": "stream",
     "text": [
      "Variable: alcohol              Importance: 0.1249\n",
      "Variable: density              Importance: 0.1011\n",
      "Variable: volatile acidity     Importance: 0.1007\n",
      "Variable: total sulfur dioxide Importance: 0.0903\n",
      "Variable: free sulfur dioxide  Importance: 0.0864\n",
      "Variable: sulphates            Importance: 0.0856\n",
      "Variable: chlorides            Importance: 0.0841\n",
      "Variable: residual sugar       Importance: 0.0835\n",
      "Variable: pH                   Importance: 0.0817\n",
      "Variable: citric acid          Importance: 0.079\n",
      "Variable: fixed acidity        Importance: 0.0767\n",
      "Variable: color_red            Importance: 0.0031\n",
      "Variable: color_white          Importance: 0.003\n"
     ]
    },
    {
     "data": {
      "text/plain": [
       "[None, None, None, None, None, None, None, None, None, None, None, None, None]"
      ]
     },
     "execution_count": 11,
     "metadata": {},
     "output_type": "execute_result"
    }
   ],
   "source": [
    "\n",
    "X_train, X_test, label_train, label_test = train_test_split(X,y, test_size=0.2, random_state=0)\n",
    "#Entrainement du model de regression\n",
    "model = RandomForestClassifier(n_estimators=1000, random_state=0)\n",
    "model.fit(X_train, label_train)\n",
    "#listing feature importance\n",
    "# Get numerical feature importances\n",
    "importances = list(model.feature_importances_)\n",
    "# List of tuples with variable and importance\n",
    "feature_importances = [(feature, round(importance,4)) for feature, importance in zip(feature_list, importances)]\n",
    "# Sort the feature importances by most important first\n",
    "feature_importances = sorted(feature_importances, key = lambda x: x[1], reverse = True)\n",
    "# Print out the feature and importances \n",
    "[print('Variable: {:20} Importance: {}'.format(*pair)) for pair in feature_importances]\n",
    "\n",
    "\n",
    "# df_data = df_data[['alcohol', 'volatile acidity', 'free sulfur dioxide',\n",
    "#                    'sulphates', 'residual sugar', 'pH', 'total sulfur dioxide', \n",
    "#                    'chlorides', 'density']]"
   ]
  },
  {
   "cell_type": "markdown",
   "metadata": {},
   "source": [
    "# Hyper Parameter tuning"
   ]
  },
  {
   "cell_type": "code",
   "execution_count": 11,
   "metadata": {},
   "outputs": [],
   "source": [
    "X_train, X_test, label_train, label_test = train_test_split(X,y, test_size=0.2, random_state=0)\n",
    "\n",
    "#Entrainement du model de regression\n",
    "#create regressor object\n",
    "model = RandomForestClassifier(random_state=42)\n",
    "# model.fit(X_train, label_train)\n",
    "#dict of hyperparameter\n",
    "param_grid = { \n",
    "    'n_estimators': [500, 1000, 5000],\n",
    "    'max_features': ['auto', 'sqrt', 'log2'],\n",
    "    'criterion' :['gini', 'entropy']\n",
    "}"
   ]
  },
  {
   "cell_type": "code",
   "execution_count": 12,
   "metadata": {},
   "outputs": [
    {
     "name": "stderr",
     "output_type": "stream",
     "text": [
      "C:\\Users\\j-mla\\AppData\\Local\\Programs\\Python\\Python39\\lib\\site-packages\\sklearn\\model_selection\\_split.py:676: UserWarning: The least populated class in y has only 2 members, which is less than n_splits=5.\n",
      "  warnings.warn(\n"
     ]
    },
    {
     "data": {
      "text/plain": [
       "GridSearchCV(cv=5, estimator=RandomForestClassifier(random_state=42),\n",
       "             param_grid={'criterion': ['gini', 'entropy'],\n",
       "                         'max_features': ['auto', 'sqrt', 'log2'],\n",
       "                         'n_estimators': [500, 1000, 5000]})"
      ]
     },
     "execution_count": 12,
     "metadata": {},
     "output_type": "execute_result"
    }
   ],
   "source": [
    "from sklearn.model_selection import GridSearchCV\n",
    "GS = GridSearchCV(estimator=model, param_grid=param_grid, cv= 5)\n",
    "GS.fit(X_train, label_train)"
   ]
  },
  {
   "cell_type": "code",
   "execution_count": 13,
   "metadata": {},
   "outputs": [
    {
     "name": "stdout",
     "output_type": "stream",
     "text": [
      "Best estimator:  RandomForestClassifier(n_estimators=500, random_state=42)\n",
      "------------------------------\n",
      "Best params {'criterion': 'gini', 'max_features': 'auto', 'n_estimators': 500}\n",
      "------------------------------\n",
      "Best score 0.6332156839034419\n"
     ]
    }
   ],
   "source": [
    "print('Best estimator: ',GS.best_estimator_)\n",
    "print('------------------------------')\n",
    "print('Best params', GS.best_params_)\n",
    "print('------------------------------')\n",
    "print('Best score', GS.best_score_)"
   ]
  },
  {
   "cell_type": "code",
   "execution_count": 25,
   "metadata": {},
   "outputs": [
    {
     "name": "stdout",
     "output_type": "stream",
     "text": [
      "{'criterion': 'entropy', 'max_depth': 8, 'max_features': 'auto', 'n_estimators': 200}\n"
     ]
    }
   ],
   "source": [
    "print(GS.best_params_)"
   ]
  },
  {
   "cell_type": "code",
   "execution_count": 26,
   "metadata": {},
   "outputs": [
    {
     "name": "stdout",
     "output_type": "stream",
     "text": [
      "0.5933442417280107\n"
     ]
    }
   ],
   "source": [
    "print(GS.best_score_)"
   ]
  },
  {
   "cell_type": "markdown",
   "metadata": {},
   "source": [
    "### Feature Selection: Backward elemination"
   ]
  },
  {
   "cell_type": "markdown",
   "metadata": {},
   "source": [
    "# RandomForestClassifier"
   ]
  },
  {
   "cell_type": "code",
   "execution_count": 16,
   "metadata": {},
   "outputs": [
    {
     "data": {
      "text/plain": [
       "RandomForestClassifier(n_estimators=5000, random_state=42)"
      ]
     },
     "execution_count": 16,
     "metadata": {},
     "output_type": "execute_result"
    }
   ],
   "source": [
    "X_train, X_test, label_train, label_test = train_test_split(X,y, test_size=0.2, random_state=0)\n",
    "\n",
    "#Entrainement du model de regression\n",
    "#create regressor object\n",
    "model = RandomForestClassifier(n_estimators=5000, random_state=42, criterion=\"entropy\", max_features=\"auto\" )\n",
    "model.fit(X_train, label_train)"
   ]
  },
  {
   "cell_type": "markdown",
   "metadata": {},
   "source": [
    "# Predictions on validation set"
   ]
  },
  {
   "cell_type": "code",
   "execution_count": 17,
   "metadata": {},
   "outputs": [],
   "source": [
    "#predictions\n",
    "\n",
    "label_pred = model.predict(X_test)\n",
    "# label_pred.round()"
   ]
  },
  {
   "cell_type": "code",
   "execution_count": 7,
   "metadata": {},
   "outputs": [
    {
     "name": "stdout",
     "output_type": "stream",
     "text": [
      "Mean Absolute Error: 0.3868131868131868\n",
      "Mean Squared Error: 0.4879120879120879\n",
      "Root Mean Squared Error: 0.6985070421349293\n",
      "Score:  0.6582417582417582\n",
      "Accuracy:  599  /  910  =  0.6582417582417582\n"
     ]
    }
   ],
   "source": [
    "from sklearn import metrics\n",
    "\n",
    "print('Mean Absolute Error:', metrics.mean_absolute_error(label_test, label_pred))\n",
    "print('Mean Squared Error:', metrics.mean_squared_error(label_test, label_pred))\n",
    "print('Root Mean Squared Error:', np.sqrt(metrics.mean_squared_error(label_test, label_pred)))\n",
    "\n",
    "print('Score: ', model.score(X_test, label_test))\n",
    "\n",
    "label_pred = label_pred.round()\n",
    "\n",
    "good_pred = 0\n",
    "for i in range(len(label_pred)):\n",
    "    if label_pred[i] == label_test[i]:\n",
    "        good_pred += 1\n",
    "print('Accuracy: ', good_pred, ' / ', len(label_pred), ' = ', good_pred/len(label_pred))"
   ]
  },
  {
   "cell_type": "markdown",
   "metadata": {},
   "source": [
    "# Prédiction pour la soumission"
   ]
  },
  {
   "cell_type": "code",
   "execution_count": 18,
   "metadata": {},
   "outputs": [],
   "source": [
    "import time\n",
    "timestr = time.strftime(\"%Y%m%d-%H%M%S\")\n",
    "\n",
    "x_public = pd.read_csv('./data/test_public.csv', sep=';')\n",
    "x_public = pd.get_dummies(x_public)\n",
    "x_public = x_public[['fixed acidity', 'volatile acidity', 'citric acid',\n",
    "       'residual sugar', 'chlorides', 'free sulfur dioxide',\n",
    "       'total sulfur dioxide', 'density', 'pH', 'sulphates', 'alcohol']]\n",
    "\n",
    "label_pred = model.predict(x_public.values)\n",
    "\n",
    "label_pred = [int(a) for a in label_pred]\n",
    "id_list = np.arange((len(label_pred)))\n",
    "dict = {'id': id_list, 'quality': label_pred}\n",
    "df = pd.DataFrame(dict) \n",
    "df.to_csv('./data/submissions/submission_rf_'+timestr+'.csv', index=False) "
   ]
  }
 ],
 "metadata": {
  "interpreter": {
   "hash": "617abead6d4232cf7e9563c8e49cb1007633705ac95bdd8e7019bb89da14d1dc"
  },
  "kernelspec": {
   "display_name": "Python 3.9.5 64-bit",
   "language": "python",
   "name": "python3"
  },
  "language_info": {
   "codemirror_mode": {
    "name": "ipython",
    "version": 3
   },
   "file_extension": ".py",
   "mimetype": "text/x-python",
   "name": "python",
   "nbconvert_exporter": "python",
   "pygments_lexer": "ipython3",
   "version": "3.9.5"
  },
  "orig_nbformat": 4
 },
 "nbformat": 4,
 "nbformat_minor": 2
}
